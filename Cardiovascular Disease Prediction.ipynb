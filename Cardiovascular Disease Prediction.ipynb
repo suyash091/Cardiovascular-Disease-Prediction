{
  "nbformat": 4,
  "nbformat_minor": 0,
  "metadata": {
    "colab": {
      "name": "Untitled0.ipynb",
      "provenance": [],
      "include_colab_link": true
    },
    "kernelspec": {
      "name": "python3",
      "display_name": "Python 3"
    }
  },
  "cells": [
    {
      "cell_type": "markdown",
      "metadata": {
        "id": "view-in-github",
        "colab_type": "text"
      },
      "source": [
        "<a href=\"https://colab.research.google.com/github/suyash091/Cardiovascular-Disease-Prediction/blob/master/Cardiovascular%20Disease%20Prediction.ipynb\" target=\"_parent\"><img src=\"https://colab.research.google.com/assets/colab-badge.svg\" alt=\"Open In Colab\"/></a>"
      ]
    },
    {
      "cell_type": "markdown",
      "metadata": {
        "id": "2ihxoPWI0EOq",
        "colab_type": "text"
      },
      "source": [
        "#**IMPORTING THE DATASET**\n"
      ]
    },
    {
      "cell_type": "code",
      "metadata": {
        "id": "1fUMKp8g0W0n",
        "colab_type": "code",
        "colab": {
          "base_uri": "https://localhost:8080/",
          "height": 68
        },
        "outputId": "ca72e15f-e914-4ba0-8269-418fd197505c"
      },
      "source": [
        "import os\n",
        "os.environ['KAGGLE_USERNAME'] = \"suyash091\"\n",
        "os.environ['KAGGLE_KEY'] = \"9775b0a6da90b12a0c284d71e498de43\"\n",
        "!kaggle datasets download -d sulianova/cardiovascular-disease-dataset"
      ],
      "execution_count": 1,
      "outputs": [
        {
          "output_type": "stream",
          "text": [
            "Downloading cardiovascular-disease-dataset.zip to /content\n",
            "\r  0% 0.00/742k [00:00<?, ?B/s]\n",
            "\r100% 742k/742k [00:00<00:00, 46.7MB/s]\n"
          ],
          "name": "stdout"
        }
      ]
    }
  ]
}